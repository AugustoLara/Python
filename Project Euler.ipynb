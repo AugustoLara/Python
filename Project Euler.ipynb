{
 "cells": [
  {
   "cell_type": "markdown",
   "metadata": {},
   "source": [
    "### 1 Multiples of 3 and 5\n",
    "If we list all the natural numbers below 10 that are multiples of 3 or 5, we get 3, 5, 6 and 9. The sum of these multiples is 23.\n",
    "\n",
    "Find the sum of all the multiples of 3 or 5 below 1000."
   ]
  },
  {
   "cell_type": "code",
   "execution_count": 14,
   "metadata": {
    "collapsed": true
   },
   "outputs": [],
   "source": [
    "mult=[]"
   ]
  },
  {
   "cell_type": "code",
   "execution_count": 15,
   "metadata": {
    "collapsed": true
   },
   "outputs": [],
   "source": [
    "\n",
    "for x in range(0,1000):\n",
    "    if x%3 == 0:\n",
    "        mult.append(x)\n",
    "    elif x%5 == 0:\n",
    "        mult.append(x)\n",
    "      "
   ]
  },
  {
   "cell_type": "code",
   "execution_count": 19,
   "metadata": {},
   "outputs": [
    {
     "data": {
      "text/plain": [
       "233168"
      ]
     },
     "execution_count": 19,
     "metadata": {},
     "output_type": "execute_result"
    }
   ],
   "source": [
    "sum(mult)"
   ]
  },
  {
   "cell_type": "markdown",
   "metadata": {},
   "source": [
    "### 3 Largest prime factors\n",
    "\n",
    "The prime factors of 13195 are 5, 7, 13 and 29.\n",
    "\n",
    "What is the largest prime factor of the number 600851475143 ?"
   ]
  },
  {
   "cell_type": "code",
   "execution_count": 114,
   "metadata": {
    "collapsed": true
   },
   "outputs": [],
   "source": [
    "import numpy as np"
   ]
  },
  {
   "cell_type": "code",
   "execution_count": 274,
   "metadata": {
    "collapsed": true
   },
   "outputs": [],
   "source": [
    "primenumbers=[]\n",
    "def prime(i):\n",
    "\n",
    "    for x in range(2,i):\n",
    "        #print(\"Iteracion de x\",x)\n",
    "        divisors = 0\n",
    "        for y in range(2,(round((x+1)/2))):\n",
    "            #print(\"Iteracion de y\",y)\n",
    "            if not(x%y):\n",
    "                divisors = divisors + 1\n",
    "               # print(\"X\",x)\n",
    "                #print(\"Y\",y)\n",
    "               # print(\"Divisors\",divisors)\n",
    "            \n",
    "           # print(\"condition x\",x,\"y\",y,\"i\",i)    \n",
    "        if divisors==1:\n",
    "            primenumbers.append(x)\n",
    "            #print(\"Prime numbers:\",primenumbers)\n",
    "            \n",
    "            "
   ]
  },
  {
   "cell_type": "code",
   "execution_count": 35,
   "metadata": {
    "collapsed": true
   },
   "outputs": [],
   "source": [
    "primenumbers=[2,3,5,7]\n",
    "def prime2(i):\n",
    "    for x in range (8,i):\n",
    "        lastdigit = 0\n",
    "        lastdigit = x%10\n",
    "        if (lastdigit not in [2,4,5,6,8,0]) and (not(not(x%3))) and (not(not(x%7))):\n",
    "           # print(lastdigit,' ', x)\n",
    "            primenumbers.append(x)\n",
    "        \n",
    "            "
   ]
  },
  {
   "cell_type": "code",
   "execution_count": 37,
   "metadata": {
    "collapsed": true
   },
   "outputs": [],
   "source": [
    "prime2(1475143)"
   ]
  },
  {
   "cell_type": "code",
   "execution_count": 49,
   "metadata": {},
   "outputs": [
    {
     "name": "stdout",
     "output_type": "stream",
     "text": [
      "71 Results:  71\n",
      "839 Results:  59569\n",
      "1471 Results:  87625999\n",
      "6857 Results:  600851475143\n",
      "59569 Results:  35792121522793367\n",
      "104441 Results:  3738164963962062042847\n",
      "486847 Results:  1819914398210038019373933409\n",
      "1234169 Results:  2246081932924484412332708021452121\n"
     ]
    }
   ],
   "source": [
    "from functools import reduce\n",
    "pfact=[]\n",
    "\n",
    "for x in primenumbers:\n",
    "    if not(600851475143%x):\n",
    "        result=0\n",
    "        pfact.append(x)\n",
    "        result = reduce(lambda x, y: x*y, pfact)\n",
    "        print(x, 'Results: ',result )"
   ]
  },
  {
   "cell_type": "code",
   "execution_count": 47,
   "metadata": {},
   "outputs": [
    {
     "name": "stdout",
     "output_type": "stream",
     "text": [
      "6857\n"
     ]
    }
   ],
   "source": [
    "for x in primenumbers:\n",
    "    if not(6857%x):\n",
    "        print(x)"
   ]
  },
  {
   "cell_type": "markdown",
   "metadata": {},
   "source": [
    "### 4 Largest palindrome product\n",
    "A palindromic number reads the same both ways. The largest palindrome made from the product of two 2-digit numbers is 9009 = 91 × 99.\n",
    "\n",
    "Find the largest palindrome made from the product of two 3-digit numbers."
   ]
  },
  {
   "cell_type": "code",
   "execution_count": 9,
   "metadata": {
    "collapsed": true
   },
   "outputs": [],
   "source": [
    "def is_palindrome(n):\n",
    "    nbr = [int(d) for d in str(n)]\n",
    "    revnbr = list(reversed(nbr))\n",
    "    if nbr == revnbr:\n",
    "        return True\n",
    "    else:\n",
    "        return False\n",
    "    "
   ]
  },
  {
   "cell_type": "code",
   "execution_count": 24,
   "metadata": {},
   "outputs": [
    {
     "name": "stdout",
     "output_type": "stream",
     "text": [
      "The highest palindrome with 3 digists is 906609\n"
     ]
    }
   ],
   "source": [
    "seed_a = 999\n",
    "seed_b = 999\n",
    "pal_list = []\n",
    "for x in range(seed_a,100,-1):\n",
    "    for y in range(seed_b,100,-1):\n",
    "        #print('Seed_a:', x,' Seed_b:', y,' Product:',x*y)\n",
    "        if is_palindrome(x*y) == True:\n",
    "            pal_list.append(x*y)\n",
    "print('The highest palindrome with 3 digists is', max(pal_list))"
   ]
  },
  {
   "cell_type": "markdown",
   "metadata": {},
   "source": [
    "### 5 Smallest multiple\n",
    "2520 is the smallest number that can be divided by each of the numbers from 1 to 10 without any remainder.\n",
    "\n",
    "What is the smallest positive number that is evenly divisible by all of the numbers from 1 to 20?"
   ]
  },
  {
   "cell_type": "code",
   "execution_count": 16,
   "metadata": {},
   "outputs": [],
   "source": [
    "def div_20(n):\n",
    "    ind = False\n",
    "    while ind == False:\n",
    "        for x in range (2,6):\n",
    "            ind = (not(n%x))\n",
    "            print('Value of divisor', x)\n",
    "            print('Indicator',ind)\n",
    "    return ind\n",
    "            "
   ]
  },
  {
   "cell_type": "markdown",
   "metadata": {
    "collapsed": true
   },
   "source": [
    "### 6 Sum square difference  The sum of the squares of the first ten natural numbers is,\n",
    "\n",
    "12 + 22 + ... + 102 = 385\n",
    "The square of the sum of the first ten natural numbers is,\n",
    "\n",
    "(1 + 2 + ... + 10)2 = 552 = 3025\n",
    "Hence the difference between the sum of the squares of the first ten natural numbers and the square of the sum is 3025 − 385 = 2640.\n",
    "\n",
    "Find the difference between the sum of the squares of the first one hundred natural numbers and the square of the sum."
   ]
  },
  {
   "cell_type": "code",
   "execution_count": 2,
   "metadata": {},
   "outputs": [
    {
     "name": "stdout",
     "output_type": "stream",
     "text": [
      "SqrPreSum 338350\n",
      "SqrPostSum 25502500\n",
      "Post - Pre 25164150\n"
     ]
    }
   ],
   "source": [
    "sqrpresum = 0\n",
    "sqrpostsum = 0\n",
    "for x in range(101):\n",
    "    sqrpresum += x*x\n",
    "    sqrpostsum += x\n",
    "\n",
    "sqrpostsum = sqrpostsum*sqrpostsum\n",
    "print(\"SqrPreSum\", sqrpresum);\n",
    "print(\"SqrPostSum\", sqrpostsum);\n",
    "print (\"Post - Pre\", sqrpostsum-sqrpresum); "
   ]
  },
  {
   "cell_type": "markdown",
   "metadata": {
    "collapsed": true
   },
   "source": [
    "### Problem 7\n",
    "By listing the first six prime numbers: 2, 3, 5, 7, 11, and 13, we can see that the 6th prime is 13.\n",
    "\n",
    "What is the 10 001st prime number?"
   ]
  }
 ],
 "metadata": {
  "interpreter": {
   "hash": "31f2aee4e71d21fbe5cf8b01ff0e069b9275f58929596ceb00d14d90e3e16cd6"
  },
  "kernelspec": {
   "display_name": "Python 3.8.9 64-bit",
   "name": "python3"
  },
  "language_info": {
   "codemirror_mode": {
    "name": "ipython",
    "version": 3
   },
   "file_extension": ".py",
   "mimetype": "text/x-python",
   "name": "python",
   "nbconvert_exporter": "python",
   "pygments_lexer": "ipython3",
   "version": "3.8.9"
  }
 },
 "nbformat": 4,
 "nbformat_minor": 2
}
